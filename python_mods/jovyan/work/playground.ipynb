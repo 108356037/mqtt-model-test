{
 "cells": [
  {
   "cell_type": "code",
   "execution_count": 21,
   "metadata": {},
   "outputs": [
    {
     "output_type": "stream",
     "name": "stdout",
     "text": [
      "{\n    \"mqtt\": {\n        \"oringpass\": {\n            \"client_id\": \"thing:syjmHv7z-\",\n            \"host\": \"mqtt.paas.oringnet.cloud\",\n            \"port\": 1883,\n            \"username\": \"syjmHv7z-\",\n            \"userpw\": \"ZCsC5XNCsk~mzrsy\",\n            \"keepalive\": 60,\n            \"topic\": {\n                \"Command\": \"$thing/syjmHv7z-/$cmd/$downlink/\",\n                \"Downlink config\": \"$thing/syjmHv7z-/$conf/$expected/\",\n                \"Uplink config\": \"$thing/syjmHv7z-/$conf/$reported/\",\n                \"Data\": \"$thing/syjmHv7z-/$data/\"\n            }\n        },\n        \"localdev\": {\n            \"host\": \"localhost\",\n            \"port\": 1883,\n            \"keepalive\": 60\n        }\n    }\n}\n"
     ]
    }
   ],
   "source": [
    "import yaml\n",
    "import json\n",
    "\n",
    "with open('test.yaml') as f:\n",
    "    \n",
    "    data = yaml.load(f, Loader=yaml.FullLoader)\n",
    "    print(json.dumps(data, indent=4))"
   ]
  },
  {
   "cell_type": "code",
   "execution_count": 22,
   "metadata": {},
   "outputs": [],
   "source": [
    "import paho.mqtt.client as mqtt\n",
    "import logging\n",
    "import json\n",
    "import time\n",
    "\n",
    "class connector_abc():\n",
    "\n",
    "    def __init__(self):\n",
    "        pass\n",
    "\n",
    "    def connect(self):\n",
    "        \"\"\"\n",
    "        this func connects to the server\n",
    "        \"\"\"\n",
    "        raise NotImplementedError\n",
    "\n",
    "\n",
    "class mqtt_connak(connector_abc):\n",
    "    \n",
    "    def __init__(self, **kwargs):\n",
    "        self.__dict__.update(kwargs)\n",
    "        self.client = mqtt.Client(client_id = self.client_id)\n",
    "        self.client.on_connect = self.on_connect\n",
    "        self.client.on_publish = self.on_publish\n",
    "        \n",
    "    def __str__(self):\n",
    "        return \"mqtt_connector\"\n",
    "    \n",
    "    def on_connect(self, client, userdata, flags, rc):\n",
    "        print(\"Connected with result code \"+str(rc))\n",
    "        \n",
    "    def on_publish(self,client,userdata,result):\n",
    "        print(\"data published, result \" + str(result))\n",
    "    \n",
    "    def connect(self):\n",
    "        if self.username and self.userpw:\n",
    "            self.client.username_pw_set(self.username, self.userpw)\n",
    "        try:\n",
    "            self.client.connect(self.host, self.port, self.keepalive)\n",
    "        except err as exception:\n",
    "            print(err)\n",
    "\n"
   ]
  },
  {
   "cell_type": "code",
   "execution_count": 28,
   "metadata": {},
   "outputs": [],
   "source": [
    "a = mqtt_connak(**data['mqtt']['oringpass'])"
   ]
  },
  {
   "cell_type": "code",
   "execution_count": 29,
   "metadata": {},
   "outputs": [],
   "source": [
    "a.connect()"
   ]
  },
  {
   "cell_type": "code",
   "execution_count": 30,
   "metadata": {},
   "outputs": [
    {
     "output_type": "stream",
     "name": "stdout",
     "text": [
      "data published, result 1\n"
     ]
    },
    {
     "output_type": "execute_result",
     "data": {
      "text/plain": [
       "<paho.mqtt.client.MQTTMessageInfo at 0x7fdc4c0b87c8>"
      ]
     },
     "metadata": {},
     "execution_count": 30
    }
   ],
   "source": [
    "a.client.publish('$thing/syjmHv7z-/$data/request',json.dumps({'id': 'temp',\n",
    " 'value': \"{'target_image': 'nginx:latest', 'key': 'pair'}\"}))"
   ]
  },
  {
   "cell_type": "code",
   "execution_count": null,
   "metadata": {},
   "outputs": [],
   "source": []
  }
 ],
 "metadata": {
  "kernelspec": {
   "display_name": "Python 3.6.9 64-bit",
   "language": "python",
   "name": "python36964bite50157c3c5874087b4469bf870d5c2ac"
  },
  "language_info": {
   "codemirror_mode": {
    "name": "ipython",
    "version": 3
   },
   "file_extension": ".py",
   "mimetype": "text/x-python",
   "name": "python",
   "nbconvert_exporter": "python",
   "pygments_lexer": "ipython3",
   "version": "3.6.9-final"
  }
 },
 "nbformat": 4,
 "nbformat_minor": 4
}