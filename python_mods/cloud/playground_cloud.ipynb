{
 "cells": [
  {
   "cell_type": "code",
   "execution_count": 2,
   "metadata": {},
   "outputs": [
    {
     "output_type": "stream",
     "name": "stdout",
     "text": [
      "{\n    \"connect_mods\": {\n        \"mqtt\": {\n            \"oringpass\": {\n                \"client_id\": \"thing:syjmHv7z-\",\n                \"host\": \"mqtt.paas.oringnet.cloud\",\n                \"port\": 1883,\n                \"username\": \"syjmHv7z-\",\n                \"userpw\": \"ZCsC5XNCsk~mzrsy\",\n                \"keepalive\": 60,\n                \"topic\": {\n                    \"Command\": \"$thing/syjmHv7z-/$cmd/$downlink/\",\n                    \"Downlink config\": \"$thing/syjmHv7z-/$conf/$expected/\",\n                    \"Uplink config\": \"$thing/syjmHv7z-/$conf/$reported/\",\n                    \"Data\": \"$thing/syjmHv7z-/$data/\"\n                }\n            },\n            \"localdev\": {\n                \"host\": \"localhost\",\n                \"port\": 1883,\n                \"keepalive\": 60\n            }\n        }\n    },\n    \"request_mods\": {\n        \"container_status_check\": {\n            \"id\": \"container_status_check\",\n            \"value\": {\n                \"target_image\": \"nginx:latest\"\n            }\n        }\n    }\n}\n"
     ]
    }
   ],
   "source": []
  },
  {
   "cell_type": "code",
   "execution_count": 3,
   "metadata": {},
   "outputs": [],
   "source": [
    "import paho.mqtt.client as mqtt\n",
    "import logging\n",
    "import json\n",
    "import time\n",
    "\n",
    "class connector_abc():\n",
    "\n",
    "    def __init__(self):\n",
    "        pass\n",
    "\n",
    "    def connect(self):\n",
    "        \"\"\"\n",
    "        this func connects to the server\n",
    "        \"\"\"\n",
    "        raise NotImplementedError\n",
    "\n",
    "\n",
    "class mqtt_connak(connector_abc):\n",
    "    \n",
    "    def __init__(self, **kwargs):\n",
    "        self.__dict__.update(kwargs)\n",
    "        self.client = mqtt.Client(client_id = self.client_id)\n",
    "        self.client.on_connect = self.on_connect\n",
    "        self.client.on_publish = self.on_publish\n",
    "        \n",
    "    def __str__(self):\n",
    "        return \"mqtt_connector\"\n",
    "    \n",
    "    def on_connect(self, client, userdata, flags, rc):\n",
    "        print(\"Connected with result code \"+str(rc))\n",
    "        \n",
    "    def on_publish(self,client,userdata,result):\n",
    "        print(\"data published, result \" + str(result))\n",
    "    \n",
    "    def connect(self):\n",
    "        if self.username and self.userpw:\n",
    "            self.client.username_pw_set(self.username, self.userpw)\n",
    "        try:\n",
    "            self.client.connect(self.host, self.port, self.keepalive)\n",
    "        except err as exception:\n",
    "            print(err)\n",
    "\n"
   ]
  },
  {
   "cell_type": "code",
   "execution_count": 4,
   "metadata": {},
   "outputs": [
    {
     "output_type": "error",
     "ename": "KeyError",
     "evalue": "'mqtt'",
     "traceback": [
      "\u001b[0;31m---------------------------------------------------------------------------\u001b[0m",
      "\u001b[0;31mKeyError\u001b[0m                                  Traceback (most recent call last)",
      "\u001b[0;32m<ipython-input-4-b07b1e3e9349>\u001b[0m in \u001b[0;36m<module>\u001b[0;34m\u001b[0m\n\u001b[0;32m----> 1\u001b[0;31m \u001b[0ma\u001b[0m \u001b[0;34m=\u001b[0m \u001b[0mmqtt_connak\u001b[0m\u001b[0;34m(\u001b[0m\u001b[0;34m**\u001b[0m\u001b[0mdata\u001b[0m\u001b[0;34m[\u001b[0m\u001b[0;34m'mqtt'\u001b[0m\u001b[0;34m]\u001b[0m\u001b[0;34m[\u001b[0m\u001b[0;34m'oringpass'\u001b[0m\u001b[0;34m]\u001b[0m\u001b[0;34m)\u001b[0m\u001b[0;34m\u001b[0m\u001b[0;34m\u001b[0m\u001b[0m\n\u001b[0m",
      "\u001b[0;31mKeyError\u001b[0m: 'mqtt'"
     ]
    }
   ],
   "source": [
    "a = mqtt_connak(**data['mqtt']['oringpass'])"
   ]
  },
  {
   "cell_type": "code",
   "execution_count": 5,
   "metadata": {},
   "outputs": [
    {
     "output_type": "error",
     "ename": "NameError",
     "evalue": "name 'a' is not defined",
     "traceback": [
      "\u001b[0;31m---------------------------------------------------------------------------\u001b[0m",
      "\u001b[0;31mNameError\u001b[0m                                 Traceback (most recent call last)",
      "\u001b[0;32m<ipython-input-5-0756830678f8>\u001b[0m in \u001b[0;36m<module>\u001b[0;34m\u001b[0m\n\u001b[0;32m----> 1\u001b[0;31m \u001b[0ma\u001b[0m\u001b[0;34m.\u001b[0m\u001b[0mconnect\u001b[0m\u001b[0;34m(\u001b[0m\u001b[0;34m)\u001b[0m\u001b[0;34m\u001b[0m\u001b[0;34m\u001b[0m\u001b[0m\n\u001b[0m",
      "\u001b[0;31mNameError\u001b[0m: name 'a' is not defined"
     ]
    }
   ],
   "source": [
    "a.connect()"
   ]
  },
  {
   "cell_type": "code",
   "execution_count": 6,
   "metadata": {},
   "outputs": [
    {
     "output_type": "error",
     "ename": "NameError",
     "evalue": "name 'a' is not defined",
     "traceback": [
      "\u001b[0;31m---------------------------------------------------------------------------\u001b[0m",
      "\u001b[0;31mNameError\u001b[0m                                 Traceback (most recent call last)",
      "\u001b[0;32m<ipython-input-6-91f514616a52>\u001b[0m in \u001b[0;36m<module>\u001b[0;34m\u001b[0m\n\u001b[0;32m----> 1\u001b[0;31m \u001b[0ma\u001b[0m\u001b[0;34m.\u001b[0m\u001b[0mclient\u001b[0m\u001b[0;34m.\u001b[0m\u001b[0mpublish\u001b[0m\u001b[0;34m(\u001b[0m\u001b[0;34m'$thing/syjmHv7z-/$data/request'\u001b[0m\u001b[0;34m,\u001b[0m\u001b[0mjson\u001b[0m\u001b[0;34m.\u001b[0m\u001b[0mdumps\u001b[0m\u001b[0;34m(\u001b[0m\u001b[0;34m{\u001b[0m\u001b[0;34m\"id\"\u001b[0m\u001b[0;34m:\u001b[0m\u001b[0;34m\"temp\"\u001b[0m\u001b[0;34m,\u001b[0m \u001b[0;34m\"value\"\u001b[0m\u001b[0;34m:\u001b[0m\u001b[0;34m\"docker\"\u001b[0m\u001b[0;34m}\u001b[0m\u001b[0;34m)\u001b[0m\u001b[0;34m)\u001b[0m\u001b[0;34m\u001b[0m\u001b[0;34m\u001b[0m\u001b[0m\n\u001b[0m",
      "\u001b[0;31mNameError\u001b[0m: name 'a' is not defined"
     ]
    }
   ],
   "source": [
    "a.client.publish('$thing/syjmHv7z-/$data/request',json.dumps({\"id\":\"temp\", \"value\":\"docker\"}))"
   ]
  },
  {
   "cell_type": "code",
   "execution_count": 9,
   "metadata": {},
   "outputs": [
    {
     "output_type": "stream",
     "name": "stdout",
     "text": [
      "{\n    \"connect_mods\": {\n        \"mqtt\": {\n            \"oringpass\": {\n                \"client_id\": \"thing:syjmHv7z-\",\n                \"host\": \"mqtt.paas.oringnet.cloud\",\n                \"port\": 1883,\n                \"username\": \"syjmHv7z-\",\n                \"userpw\": \"ZCsC5XNCsk~mzrsy\",\n                \"keepalive\": 60,\n                \"topic\": {\n                    \"Command\": \"$thing/syjmHv7z-/$cmd/$downlink/\",\n                    \"Downlink config\": \"$thing/syjmHv7z-/$conf/$expected/\",\n                    \"Uplink config\": \"$thing/syjmHv7z-/$conf/$reported/\",\n                    \"Data\": \"$thing/syjmHv7z-/$data/\"\n                },\n                \"publish_path\": {\n                    \"bucket1\": \"request\"\n                }\n            },\n            \"localdev\": {\n                \"host\": \"localhost\",\n                \"port\": 1883,\n                \"keepalive\": 60\n            }\n        }\n    },\n    \"payload_construct_mods\": {\n        \"container_status_check\": {\n            \"id\": \"container_status_check\",\n            \"value\": {\n                \"target_image\": \"k8s/gcr.io/pause\",\n                \"target_image_tag\": \"alp233\"\n            }\n        }\n    }\n}\n"
     ]
    }
   ],
   "source": [
    "import yaml\n",
    "import json\n",
    "\n",
    "with open('cloud_publish.yaml') as f:\n",
    "    \n",
    "    data = yaml.load(f, Loader=yaml.FullLoader)\n",
    "    print(json.dumps(data, indent=4))"
   ]
  },
  {
   "cell_type": "code",
   "execution_count": 10,
   "metadata": {},
   "outputs": [],
   "source": [
    "import payload_construct_mods as pcmod\n",
    "import connector_mods as cnmod\n",
    "\n",
    "f = open('cloud_publish.yaml')\n",
    "data = yaml.load(f, Loader=yaml.FullLoader)\n",
    "buff = (data['payload_construct_mods']['container_status_check']['value']).copy()\n",
    "# data['request_mods']['container_status_check']['value'] = str(buff)\n",
    "# data['request_mods']['container_status_check']\n",
    "# mod = container_checker()"
   ]
  },
  {
   "cell_type": "code",
   "execution_count": 11,
   "metadata": {},
   "outputs": [
    {
     "output_type": "execute_result",
     "data": {
      "text/plain": [
       "{'id': 'container_status_check',\n",
       " 'value': \"{'target_image': 'k8s/gcr.io/pause', 'target_image_tag': 'alp233', 'timestamp': '2020/11/26 16:05:04'}\"}"
      ]
     },
     "metadata": {},
     "execution_count": 11
    }
   ],
   "source": [
    "a=pcmod.container_checker(**data['payload_construct_mods']['container_status_check'])\n",
    "a.construct_payload()\n",
    "a.stringfy_value()\n",
    "a.payload"
   ]
  },
  {
   "cell_type": "code",
   "execution_count": 12,
   "metadata": {},
   "outputs": [
    {
     "output_type": "stream",
     "name": "stdout",
     "text": [
      "connect to mqtt.paas.oringnet.cloud:1883\n"
     ]
    }
   ],
   "source": [
    "c = cnmod.mqtt_connack(**data['connect_mods']['mqtt']['oringpass'])\n",
    "c.connect()\n",
    "k=c.payload_submit(json.dumps(a.payload))\n",
    "k"
   ]
  },
  {
   "cell_type": "code",
   "execution_count": null,
   "metadata": {},
   "outputs": [],
   "source": []
  }
 ],
 "metadata": {
  "kernelspec": {
   "display_name": "Python 3.6.9 64-bit",
   "language": "python",
   "name": "python36964bite50157c3c5874087b4469bf870d5c2ac"
  },
  "language_info": {
   "codemirror_mode": {
    "name": "ipython",
    "version": 3
   },
   "file_extension": ".py",
   "mimetype": "text/x-python",
   "name": "python",
   "nbconvert_exporter": "python",
   "pygments_lexer": "ipython3",
   "version": "3.6.9-final"
  }
 },
 "nbformat": 4,
 "nbformat_minor": 4
}